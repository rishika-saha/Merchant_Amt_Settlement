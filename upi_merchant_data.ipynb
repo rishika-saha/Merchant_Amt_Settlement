{
 "cells": [
  {
   "cell_type": "code",
   "execution_count": 0,
   "metadata": {
    "application/vnd.databricks.v1+cell": {
     "cellMetadata": {
      "byteLimit": 2048000,
      "rowLimit": 10000
     },
     "inputWidgets": {},
     "nuid": "28708a6c-dc0d-4b9e-9c56-6cf59a550ddc",
     "showTitle": false,
     "tableResultSettingsMap": {},
     "title": ""
    }
   },
   "outputs": [],
   "source": [
    "#Create a raw delta table with CDC enabled\n",
    "spark.sql(\"\"\"\n",
    "CREATE TABLE IF NOT EXISTS test_gds.default.raw_upi_transactions_v1\n",
    "( transaction_id STRING,\n",
    "  upi_id STRING,\n",
    "  merchant_id STRING,\n",
    "  transaction_amount DOUBLE,\n",
    "  transaction_timestamp TIMESTAMP,\n",
    "  transaction_status STRING\n",
    ")\n",
    "USING delta\n",
    "TBLPROPERTIES ('delta.enableChangeDataFeed' = 'true')\n",
    "\"\"\")\n",
    "print(\"Delta table 'incremental_load.default.raw_upi_transactions_v1' created with CDC enabled.\")\n"
   ]
  },
  {
   "cell_type": "code",
   "execution_count": 0,
   "metadata": {
    "application/vnd.databricks.v1+cell": {
     "cellMetadata": {
      "byteLimit": 2048000,
      "rowLimit": 10000
     },
     "inputWidgets": {},
     "nuid": "0706ac83-0551-4800-a2a7-3eccb29db031",
     "showTitle": false,
     "tableResultSettingsMap": {},
     "title": ""
    }
   },
   "outputs": [],
   "source": [
    "from delta import *\n",
    "\n",
    "#create mock data in form of batches\n",
    "\n",
    "mock_data = [\n",
    "  spark.createDataFrame([\n",
    "    (\"T001\", \"upi1@bank\", \"M001\", 500.0, \"2024-12-21 10:00:00\", \"initiated\"),\n",
    "    (\"T002\", \"upi2@bank\", \"M002\", 1000.0, \"2024-12-21 10:05:00\", \"initiated\"),\n",
    "    (\"T003\", \"upi3@bank\", \"M003\", 1500.0, \"2024-12-21 10:10:00\", \"initiated\"),\n",
    "  ], [\"transaction_id\", \"upi_id\", \"merchant_id\", \"transaction_amount\", \"transaction_timestamp\", \"transaction_status\"]),\n",
    "  spark.createDataFrame([\n",
    "    (\"T001\", \"upi1@bank\", \"M001\", 500.0, \"2024-12-21 10:15:00\", \"completed\"),  # Update \n",
    "    (\"T002\", \"upi2@bank\", \"M002\", 1000.0, \"2024-12-21 10:20:00\", \"failed\"),    # Update \n",
    "    (\"T004\", \"upi4@bank\", \"M004\", 2000.0, \"2024-12-21 10:25:00\", \"initiated\"), # New \n",
    "  ], [\"transaction_id\", \"upi_id\", \"merchant_id\", \"transaction_amount\", \"transaction_timestamp\", \"transaction_status\"]),\n",
    "  spark.createDataFrame([\n",
    "    (\"T001\", \"upi1@bank\", \"M001\", 500.0, \"2024-12-21 10:30:00\", \"refunded\"),  # Refund issued\n",
    "    (\"T003\", \"upi3@bank\", \"M003\", 1500.0, \"2024-12-21 10:35:00\", \"completed\"), # Completed \n",
    "  ], [\"transaction_id\", \"upi_id\", \"merchant_id\", \"transaction_amount\", \"transaction_timestamp\", \"transaction_status\"]),\n",
    "]\n",
    "\n",
    "\n",
    "#Merge Logic\n",
    "def merge_to_delta_table(batch_data: str, batch_no):\n",
    "    #create a object of the delta table  for merging\n",
    "    delta_table = DeltaTable.forName(spark, batch_data)\n",
    "\n",
    "    #Merge logic\n",
    "    delta_table.alias(\"target\").merge(batch_no.alias(\"source\"), \n",
    "    \"target.transaction_id = source.transaction_id\")\\\n",
    "    .whenMatchedUpdate(\n",
    "        set = {\"upi_id\": \"source.upi_id\",\n",
    "                \"merchant_id\": \"source.merchant_id\",\n",
    "                \"transaction_amount\": \"source.transaction_amount\",\n",
    "                \"transaction_timestamp\": \"source.transaction_timestamp\",\n",
    "                \"transaction_status\": \"source.transaction_status\"\n",
    "                }\n",
    "    )\\\n",
    "    .whenNotMatchedInsertAll().execute()\n",
    "\n",
    "merge_to_delta_table(\"test_gds.default.raw_upi_transactions_v1\",mock_data[2] )\n",
    "print(f\"Batch processed successfully.\")"
   ]
  }
 ],
 "metadata": {
  "application/vnd.databricks.v1+notebook": {
   "computePreferences": null,
   "dashboards": [],
   "environmentMetadata": {
    "base_environment": "",
    "environment_version": "2"
   },
   "inputWidgetPreferences": null,
   "language": "python",
   "notebookMetadata": {
    "pythonIndentUnit": 4
   },
   "notebookName": "upi_merchant_data",
   "widgets": {}
  },
  "language_info": {
   "name": "python"
  }
 },
 "nbformat": 4,
 "nbformat_minor": 0
}
